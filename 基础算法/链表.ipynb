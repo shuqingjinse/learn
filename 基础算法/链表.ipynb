{
 "cells": [
  {
   "cell_type": "markdown",
   "metadata": {},
   "source": [
    "## 26.复杂链表的复制\n",
    "\n",
    "复杂链表的复制\n",
    "\n",
    "链表中除了指向后一个结点的指针之外，还有一个指针指向任意结点\n",
    "\n",
    "分为三步完成：\n",
    "\n",
    "一复制每个结点，并把新结点放在老结点后面，如1->2,复制为1->1->2->2\n",
    "\n",
    "二为每个新结点设置other指针\n",
    "\n",
    "三把复制后的结点链表拆开"
   ]
  },
  {
   "cell_type": "code",
   "execution_count": 1,
   "metadata": {},
   "outputs": [],
   "source": [
    "import random"
   ]
  },
  {
   "cell_type": "code",
   "execution_count": 2,
   "metadata": {},
   "outputs": [],
   "source": [
    "class Node(object):\n",
    "    def __init__(self, val):\n",
    "        self.val = val\n",
    "        self.next = None\n",
    "        self.other = None"
   ]
  },
  {
   "cell_type": "code",
   "execution_count": 33,
   "metadata": {},
   "outputs": [],
   "source": [
    "class Solution(object):\n",
    "    \n",
    "    @staticmethod\n",
    "    def clone_nodes(head):\n",
    "        # 结点复制，新节点放在老节点后面\n",
    "        \n",
    "        move = head\n",
    "        while move:\n",
    "            tmp = Node(move.val)  # 1） 复制move指针对应的head结点给 tmp指针\n",
    "            tmp.next = move.next  # 2） 将move指针.next 对应的head.next结点 赋给 tmp指针.next  即将老节点的下一个节点 赋作 新节点的下一个节点\n",
    "            move.next = tmp       # 3） 将新节点 赋作 将老节点的下一个节点\n",
    "            move = tmp.next       # 4） 将新节点的下一个节点 赋作 move， 进行递归\n",
    "        return head\n",
    "    \n",
    "    @staticmethod\n",
    "    def set_nodes(head):\n",
    "        # other指针设置\n",
    "        move = head\n",
    "        while move:\n",
    "            m_next = move.next\n",
    "            if move.other:\n",
    "                m_next.other = move.other.next  # 将老节点的other的next 赋到 新节点的other上\n",
    "            move = m_next.next\n",
    "        return head\n",
    "    \n",
    "    @staticmethod\n",
    "    def reconstruct_nodes(head):\n",
    "        # 结点拆分\n",
    "        ret = head.next if head else Node\n",
    "        move = ret\n",
    "        while head:\n",
    "            head = move.next\n",
    "            if head:\n",
    "                move.next = head.next\n",
    "                move = move.next\n",
    "        return ret\n",
    "    \n",
    "    @staticmethod\n",
    "    def clone_link(head):\n",
    "        # 结果\n",
    "        h = Solution.clone_nodes(head)\n",
    "        h1 = Solution.set_nodes(h)\n",
    "        ret = Solution.reconstruct_nodes(h1)\n",
    "        return h,h1,ret\n",
    "\n",
    "    @staticmethod\n",
    "    def print_nodes(head):\n",
    "        # 打印结点值，结点other的值，用来比较\n",
    "        ret = []\n",
    "        while head:\n",
    "            tmp = [head.val]\n",
    "            if head.other:\n",
    "                tmp.append(head.other.val)\n",
    "            ret.append(tmp)\n",
    "            head = head.next\n",
    "        print(ret)\n",
    "\n",
    "    @staticmethod\n",
    "    def construct_nodes(vals):\n",
    "        \"\"\"\n",
    "        构造一个简单的复杂链表\n",
    "        :param vals: list\n",
    "        :return: Nodes\n",
    "        \"\"\"\n",
    "        if not vals:\n",
    "            return Node\n",
    "        move = head = Node(vals.pop(0))\n",
    "        nodes = [None, head]\n",
    "        for v in vals:\n",
    "            tmp = Node(v)\n",
    "            move.next = tmp\n",
    "            nodes.append(tmp)\n",
    "            move = move.next\n",
    "        # print [node.val for node in nodes if node]\n",
    "        move = head\n",
    "        while move:\n",
    "            # 设置other指针为随机结点\n",
    "            move.other = random.choice(nodes)\n",
    "            move = move.next\n",
    "        return head"
   ]
  },
  {
   "cell_type": "code",
   "execution_count": 34,
   "metadata": {},
   "outputs": [
    {
     "name": "stdout",
     "output_type": "stream",
     "text": [
      "[[1], [2, 2], [3, 5], [4, 5], [5]]\n",
      "[[1], [1], [2, 2], [3, 5], [4, 5], [5]]\n",
      "[[1], [1], [2, 2], [3, 5], [4, 5], [5]]\n",
      "[[1], [2, 2], [3, 5], [4, 5], [5]]\n"
     ]
    }
   ],
   "source": [
    "if __name__ == '__main__':\n",
    "    link = Solution.construct_nodes([1, 2, 3, 4, 5])\n",
    "    Solution.print_nodes(link)\n",
    "    one,two,test = Solution.clone_link(link)  # 复制\n",
    "    Solution.print_nodes(one)\n",
    "    Solution.print_nodes(two)\n",
    "    Solution.print_nodes(test)"
   ]
  },
  {
   "cell_type": "code",
   "execution_count": null,
   "metadata": {},
   "outputs": [],
   "source": []
  }
 ],
 "metadata": {
  "kernelspec": {
   "display_name": "Python 3",
   "language": "python",
   "name": "python3"
  },
  "language_info": {
   "codemirror_mode": {
    "name": "ipython",
    "version": 3
   },
   "file_extension": ".py",
   "mimetype": "text/x-python",
   "name": "python",
   "nbconvert_exporter": "python",
   "pygments_lexer": "ipython3",
   "version": "3.7.4"
  }
 },
 "nbformat": 4,
 "nbformat_minor": 4
}
