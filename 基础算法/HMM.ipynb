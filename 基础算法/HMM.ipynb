{
 "cells": [
  {
   "cell_type": "code",
   "execution_count": 1,
   "metadata": {},
   "outputs": [],
   "source": [
    "import numpy as np"
   ]
  },
  {
   "cell_type": "code",
   "execution_count": 35,
   "metadata": {},
   "outputs": [],
   "source": [
    "class HMM(object):\n",
    "    def __init__(self, N, M, pi=None, A=None, B=None):\n",
    "        self.N = N\n",
    "        self.M = M\n",
    "        self.pi = pi\n",
    "        self.A = A\n",
    "        self.B = B\n",
    "    \n",
    "    def get_data_with_distribute(self, dist):\n",
    "        # 根据随机数在dist概率分布中的具体位置选定产生的状态index\n",
    "        \n",
    "        r = np.random.rand()\n",
    "        for i, p in enumerate(dist):\n",
    "            if r < p:\n",
    "                \n",
    "                return i\n",
    "            r -= p\n",
    "    \n",
    "    def generate(self, T: int):\n",
    "        '''\n",
    "        根据给定的参数生成观测序列\n",
    "        T：指定要生成数据的数量\n",
    "        '''\n",
    "        z = self.get_data_with_distribute(self.pi) # 根据初始概率分布生成第一个状态\n",
    "        \n",
    "        x = self.get_data_with_distribute(self.B[z]) # 生成第一个观测数据\n",
    "        result = [x]\n",
    "        for i in range(T-1):\n",
    "            z = self.get_data_with_distribute(self.A[z])\n",
    "            x = self.get_data_with_distribute(self.B[z])\n",
    "            \n",
    "            result.append(x)\n",
    "        return result"
   ]
  },
  {
   "cell_type": "code",
   "execution_count": 36,
   "metadata": {},
   "outputs": [
    {
     "name": "stdout",
     "output_type": "stream",
     "text": [
      "[0, 1, 1, 0, 0]\n"
     ]
    }
   ],
   "source": [
    "pi = np.array([.25, .25, .25, .25])\n",
    "A = np.array([\n",
    "    [0, 1, 0, 0],\n",
    "    [.4, 0, .6, 0],\n",
    "    [0, .4, 0, .6],\n",
    "    [0, 0, .5, .5]\n",
    "])\n",
    "B = np.array([\n",
    "    [.5, .5],\n",
    "    [.3, .7],\n",
    "    [.6, .4],\n",
    "    [.8, .2]\n",
    "])\n",
    "hmm = HMM(4, 2, pi, A, B)\n",
    "print(hmm.generate(5))"
   ]
  },
  {
   "cell_type": "code",
   "execution_count": null,
   "metadata": {},
   "outputs": [],
   "source": []
  },
  {
   "cell_type": "code",
   "execution_count": null,
   "metadata": {},
   "outputs": [],
   "source": []
  }
 ],
 "metadata": {
  "kernelspec": {
   "display_name": "Python 3",
   "language": "python",
   "name": "python3"
  },
  "language_info": {
   "codemirror_mode": {
    "name": "ipython",
    "version": 3
   },
   "file_extension": ".py",
   "mimetype": "text/x-python",
   "name": "python",
   "nbconvert_exporter": "python",
   "pygments_lexer": "ipython3",
   "version": "3.7.4"
  }
 },
 "nbformat": 4,
 "nbformat_minor": 4
}
