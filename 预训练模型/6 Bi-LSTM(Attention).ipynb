{
 "cells": [
  {
   "cell_type": "code",
   "execution_count": 1,
   "metadata": {},
   "outputs": [],
   "source": [
    "import numpy as np\n",
    "import torch\n",
    "import torch.nn as nn\n",
    "import torch.optim as optim\n",
    "import torch.nn.functional as F\n",
    "import matplotlib.pyplot as plt"
   ]
  },
  {
   "cell_type": "markdown",
   "metadata": {},
   "source": [
    "Bi-LSTM(Attention)中的注意力机制的输入： lstm的隐藏层和输出\n",
    "\n",
    "本代码是进行句子的情感分类"
   ]
  },
  {
   "cell_type": "code",
   "execution_count": 13,
   "metadata": {},
   "outputs": [],
   "source": [
    "embedding_dim = 2\n",
    "n_hidden = 5\n",
    "num_classes = 2\n",
    "sentences = [\"i love you\", \"he loves me\", \"she likes baseball\", \"i hate you\", \"sorry for that\", \"this is awful\"]\n",
    "labels = [1, 1, 1, 0, 0, 0]\n",
    "\n",
    "word_list = \" \".join(sentences).split()\n",
    "word_list = list(set(word_list))\n",
    "word_dict = {w:i for i,w in enumerate(word_list)}\n",
    "vocab_size = len(word_dict)\n",
    "\n",
    "inputs = torch.LongTensor([np.asarray([word_dict[n] for n in sen.split()]) for sen in sentences])\n",
    "targets = torch.LongTensor([out for out in labels])"
   ]
  },
  {
   "cell_type": "code",
   "execution_count": 11,
   "metadata": {},
   "outputs": [],
   "source": [
    "class BiLSTM_Attention(nn.Module):\n",
    "    def __init__(self):\n",
    "        super(BiLSTM_Attention, self).__init__()\n",
    "        \n",
    "        self.embedding = nn.Embedding(vocab_size, embedding_dim)\n",
    "        self.lstm = nn.LSTM(embedding_dim, n_hidden,bidirectional=True)\n",
    "        self.out = nn.Linear(n_hidden*2, num_classes)\n",
    "    \n",
    "    def attention_net(self, lstm_output, final_state):\n",
    "        # lstm_output: (6,3,10) (batch_size, n_step, n_hidden*2)\n",
    "        # final_state: (2,6,5) (num_layer*num_directions, batch_size, n_hidden)\n",
    "        hidden = final_state.view(-1, n_hidden*2, 1) # (6, 10, 1)\n",
    "        \n",
    "        attn_weights = torch.bmm(lstm_output, hidden).squeeze(2)   # (6,3,10) * (6,10,1) -> (6,3,1) -> (6,3)\n",
    "        soft_attn_weights = F.softmax(attn_weights, 1)\n",
    "        context = torch.bmm(lstm_output.transpose(1, 2), soft_attn_weights.unsqueeze(2)).squeeze(2)\n",
    "        # (6,10,3) * (6,3,1) -> (6,10,1) -> (6,10) context\n",
    "        return context, soft_attn_weights.data.numpy()\n",
    "    \n",
    "    def forward(self, X):\n",
    "        input = self.embedding(X)  # X (6,3) -> input (6,3,2)\n",
    "        input = input.permute(1, 0, 2) # (6,3,2) -> (3, 6, 2) 即 (sequence_length, batch_size, embedding_size)\n",
    "        hidden_state = torch.zeros(1*2, len(X), n_hidden) # (2, 6, 5) \n",
    "        cell_state = torch.zeros(1*2, len(X), n_hidden)\n",
    "        output, (final_hidden_state, final_cell_state) = self.lstm(input,(hidden_state, cell_state))\n",
    "        # output (3, 6, 10) \n",
    "        # final_hidden_state (2, 6, 5)\n",
    "        output = output.permute(1, 0, 2) # output (6, 3, 10)\n",
    "        attn_output, attention = self.attention_net(output, final_hidden_state)\n",
    "        # attn_output (batchsize, n_hidden*2)\n",
    "        return self.out(attn_output), attention  # model: (batch_size, num_classes) attention: (batch_size, n_step)\n",
    "    # n_step 和 sequence_length是同一个"
   ]
  },
  {
   "cell_type": "code",
   "execution_count": 12,
   "metadata": {},
   "outputs": [],
   "source": [
    "model = BiLSTM_Attention()\n",
    "criterion = nn.CrossEntropyLoss()\n",
    "optimizer = optim.Adam(model.parameters(), lr=0.001)"
   ]
  },
  {
   "cell_type": "code",
   "execution_count": 15,
   "metadata": {},
   "outputs": [
    {
     "name": "stdout",
     "output_type": "stream",
     "text": [
      "1000 tensor(0.0037, grad_fn=<NllLossBackward>)\n",
      "2000 tensor(0.0008, grad_fn=<NllLossBackward>)\n",
      "3000 tensor(0.0003, grad_fn=<NllLossBackward>)\n",
      "4000 tensor(0.0002, grad_fn=<NllLossBackward>)\n",
      "5000 tensor(8.3959e-05, grad_fn=<NllLossBackward>)\n"
     ]
    }
   ],
   "source": [
    "for epoch in range(5000):\n",
    "    optimizer.zero_grad()\n",
    "    output, attention = model(inputs)\n",
    "    loss = criterion(output, targets)\n",
    "    if (epoch+1) % 1000 == 0:\n",
    "        print(epoch+1, loss)\n",
    "    loss.backward()\n",
    "    optimizer.step()"
   ]
  },
  {
   "cell_type": "code",
   "execution_count": 16,
   "metadata": {},
   "outputs": [
    {
     "data": {
      "text/plain": [
       "tensor([[1, 8, 4]])"
      ]
     },
     "execution_count": 16,
     "metadata": {},
     "output_type": "execute_result"
    }
   ],
   "source": [
    "test_text = 'sorry hate you'\n",
    "tests = [np.asarray([word_dict[n] for n in test_text.split()])]\n",
    "test_batch = torch.LongTensor(tests)\n",
    "test_batch"
   ]
  },
  {
   "cell_type": "code",
   "execution_count": 17,
   "metadata": {},
   "outputs": [],
   "source": [
    "predict, _ = model(test_batch)"
   ]
  },
  {
   "cell_type": "code",
   "execution_count": 18,
   "metadata": {},
   "outputs": [
    {
     "data": {
      "text/plain": [
       "tensor([[ 4.8092, -4.8284]], grad_fn=<AddmmBackward>)"
      ]
     },
     "execution_count": 18,
     "metadata": {},
     "output_type": "execute_result"
    }
   ],
   "source": [
    "predict"
   ]
  },
  {
   "cell_type": "code",
   "execution_count": 19,
   "metadata": {},
   "outputs": [],
   "source": [
    "predict = predict.data.max(1, keepdim=True)[1]"
   ]
  },
  {
   "cell_type": "code",
   "execution_count": 20,
   "metadata": {},
   "outputs": [
    {
     "data": {
      "text/plain": [
       "tensor([[0]])"
      ]
     },
     "execution_count": 20,
     "metadata": {},
     "output_type": "execute_result"
    }
   ],
   "source": [
    "predict"
   ]
  },
  {
   "cell_type": "code",
   "execution_count": 21,
   "metadata": {},
   "outputs": [
    {
     "name": "stdout",
     "output_type": "stream",
     "text": [
      "sorry hate you is Bad Mean..\n"
     ]
    }
   ],
   "source": [
    "if predict[0][0] == 0:\n",
    "    print(test_text, 'is Bad Mean..')\n",
    "else:\n",
    "    print(test_text, 'is Good Mean!')"
   ]
  },
  {
   "cell_type": "code",
   "execution_count": 23,
   "metadata": {},
   "outputs": [
    {
     "data": {
      "text/plain": [
       "array([[0.02443154, 0.9443099 , 0.03125861],\n",
       "       [0.25899917, 0.23904687, 0.50195396],\n",
       "       [0.00733469, 0.03585967, 0.95680565],\n",
       "       [0.1830725 , 0.23434542, 0.5825821 ],\n",
       "       [0.6695529 , 0.3142739 , 0.01617326],\n",
       "       [0.8733531 , 0.11534436, 0.01130259]], dtype=float32)"
      ]
     },
     "execution_count": 23,
     "metadata": {},
     "output_type": "execute_result"
    }
   ],
   "source": [
    "attention"
   ]
  },
  {
   "cell_type": "code",
   "execution_count": 22,
   "metadata": {},
   "outputs": [
    {
     "data": {
      "image/png": "[encoded data removed]",
      "text/plain": [
       "<Figure size 432x216 with 1 Axes>"
      ]
     },
     "metadata": {
      "needs_background": "light"
     },
     "output_type": "display_data"
    }
   ],
   "source": [
    "fig = plt.figure(figsize=(6, 3))\n",
    "ax = fig.add_subplot(1, 1, 1)\n",
    "ax.matshow(attention, cmap='viridis')\n",
    "ax.set_xticklabels(['']+['first_word', 'second_word', 'third_word'], fontdict={'fontsize': 14}, rotation=90)\n",
    "ax.set_yticklabels(['']+['batch_1', 'batch_2', 'batch_3', 'batch_4', 'batch_5', 'batch_6'], fontdict={'fontsize': 14})\n",
    "plt.show()"
   ]
  },
  {
   "cell_type": "code",
   "execution_count": null,
   "metadata": {},
   "outputs": [],
   "source": []
  }
 ],
 "metadata": {
  "kernelspec": {
   "display_name": "Python 3",
   "language": "python",
   "name": "python3"
  },
  "language_info": {
   "codemirror_mode": {
    "name": "ipython",
    "version": 3
   },
   "file_extension": ".py",
   "mimetype": "text/x-python",
   "name": "python",
   "nbconvert_exporter": "python",
   "pygments_lexer": "ipython3",
   "version": "3.7.4"
  }
 },
 "nbformat": 4,
 "nbformat_minor": 4
}
