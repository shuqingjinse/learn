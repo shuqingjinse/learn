{
 "cells": [
  {
   "cell_type": "code",
   "execution_count": 1,
   "metadata": {},
   "outputs": [],
   "source": [
    "import argparse\n",
    "import numpy as np\n",
    "import torch\n",
    "import torch.nn as nn"
   ]
  },
  {
   "cell_type": "markdown",
   "metadata": {},
   "source": [
    "利用seq2seq，寻找单词的反义词"
   ]
  },
  {
   "cell_type": "markdown",
   "metadata": {},
   "source": [
    "S: decoding input starting\n",
    "\n",
    "E: decoding output starting\n",
    "\n",
    "P: fill blank"
   ]
  },
  {
   "cell_type": "code",
   "execution_count": 2,
   "metadata": {},
   "outputs": [],
   "source": [
    "n_step = 5\n",
    "n_hidden = 128\n",
    "char_arr = [c for c in 'SEPabcdefghijklmnopqrstuvwxyz']\n",
    "num_dic = {n:i for i,n in enumerate(char_arr)}\n",
    "seq_data = [['man', 'women'], ['black', 'white'], ['king', 'queen'], ['girl', 'boy'], ['up', 'down'], ['high', 'low']]\n",
    "n_class = len(num_dic) # 29\n",
    "batch_size = len(seq_data) # 6"
   ]
  },
  {
   "cell_type": "code",
   "execution_count": 3,
   "metadata": {},
   "outputs": [],
   "source": [
    "def make_batch():\n",
    "    input_batch, output_batch, target_batch = [], [], []\n",
    "    for seq in seq_data:\n",
    "        for i in range(2):\n",
    "            seq[i] = seq[i] + 'P' * (n_step - len(seq[i]))\n",
    "        input = [num_dic[n] for n in seq[0]]\n",
    "        output = [num_dic[n] for n in ('S' + seq[1])]\n",
    "        target = [num_dic[n] for n in (seq[1] + 'E')]\n",
    "        \n",
    "        input_batch.append(np.eye(n_class)[input]) # 6,5,29\n",
    "        output_batch.append(np.eye(n_class)[output]) # 6,6,29\n",
    "        target_batch.append(target) # 6,6 \n",
    "        # 利用input的encoding，和output的前一个字母，推断当前的字母，进行训练模型参数\n",
    "    \n",
    "    return torch.FloatTensor(input_batch), torch.FloatTensor(output_batch), torch.LongTensor(target_batch)"
   ]
  },
  {
   "cell_type": "code",
   "execution_count": 4,
   "metadata": {},
   "outputs": [],
   "source": [
    "input_batch, output_batch, target_batch = make_batch()"
   ]
  },
  {
   "cell_type": "code",
   "execution_count": 6,
   "metadata": {},
   "outputs": [],
   "source": [
    "class Seq2Seq(nn.Module):\n",
    "    def __init__(self):\n",
    "        super(Seq2Seq, self).__init__()\n",
    "        self.enc_cell = nn.RNN(input_size=n_class, hidden_size=n_hidden, dropout=0.5)\n",
    "        self.dec_cell = nn.RNN(input_size=n_class, hidden_size=n_hidden, dropout=0.5)\n",
    "        self.fc = nn.Linear(n_hidden, n_class)\n",
    "    \n",
    "    def forward(self, enc_input, enc_hidden, dec_input):\n",
    "        enc_input = enc_input.transpose(0, 1)  # enc_input: max_len=(n_step, time_step), batch_size, n_class\n",
    "        dec_input = dec_input.transpose(0, 1)\n",
    "        \n",
    "        _, enc_states = self.enc_cell(enc_input, enc_hidden)\n",
    "        # enc_states: [num_layers(=1) * num_directions(=1), batch_size, n_hidden]\n",
    "        outputs, _ = self.dec_cell(dec_input, enc_states)\n",
    "        # outputs: [max_len+1(=6), batch_size, num_directions(=1) * n_hidden(=128)]\n",
    "        \n",
    "        model = self.fc(outputs) # model: [max_len+1(=6), batch_size, n_class]\n",
    "        return model"
   ]
  },
  {
   "cell_type": "code",
   "execution_count": 7,
   "metadata": {},
   "outputs": [
    {
     "name": "stderr",
     "output_type": "stream",
     "text": [
      "D:\\software\\anaconda\\lib\\site-packages\\torch\\nn\\modules\\rnn.py:50: UserWarning: dropout option adds dropout after all but last recurrent layer, so non-zero dropout expects num_layers greater than 1, but got dropout=0.5 and num_layers=1\n",
      "  \"num_layers={}\".format(dropout, num_layers))\n"
     ]
    }
   ],
   "source": [
    "model = Seq2Seq()\n",
    "criterion = nn.CrossEntropyLoss()\n",
    "optimizer = torch.optim.Adam(model.parameters(), lr=0.001)"
   ]
  },
  {
   "cell_type": "code",
   "execution_count": 8,
   "metadata": {},
   "outputs": [
    {
     "name": "stdout",
     "output_type": "stream",
     "text": [
      "999 tensor(0.0033, grad_fn=<AddBackward0>)\n",
      "1999 tensor(0.0009, grad_fn=<AddBackward0>)\n",
      "2999 tensor(0.0004, grad_fn=<AddBackward0>)\n",
      "3999 tensor(0.0002, grad_fn=<AddBackward0>)\n",
      "4999 tensor(0.0001, grad_fn=<AddBackward0>)\n"
     ]
    }
   ],
   "source": [
    "for epoch in range(5000):\n",
    "    hidden = torch.zeros(1, batch_size, n_hidden)\n",
    "    optimizer.zero_grad()\n",
    "    output = model(input_batch, hidden, output_batch)\n",
    "    output = output.transpose(0, 1)\n",
    "    loss = 0\n",
    "    for i in range(0, len(target_batch)):\n",
    "        loss += criterion(output[i], target_batch[i])\n",
    "    if (epoch+1)%1000 == 0:\n",
    "        print(epoch, loss)\n",
    "    loss.backward()\n",
    "    optimizer.step()"
   ]
  },
  {
   "cell_type": "code",
   "execution_count": 20,
   "metadata": {},
   "outputs": [
    {
     "name": "stdout",
     "output_type": "stream",
     "text": [
      "man -->  women\n",
      "black -->  white\n",
      "king -->  queen\n",
      "girl -->  boy\n",
      "up -->  down\n",
      "high -->  low\n"
     ]
    }
   ],
   "source": [
    "hidden = torch.zeros(1, 1, 128)\n",
    "for i in range(6):\n",
    "    input_batch_one = input_batch[i].unsqueeze(0)\n",
    "    #output_batch_one = output_batch[i].unsqueeze(0)\n",
    "    test_batch = [np.eye(n_class)[[num_dic[n] for n in 'SPPPPP']]]\n",
    "    test_batch = torch.FloatTensor(test_batch)\n",
    "    output = model(input_batch_one, hidden, test_batch)\n",
    "    # 利用已经训练好的模型进行预测时，就不需要output_batch,这里为了以示区别，用test_batch替代\n",
    "    predict = output.data.max(2, keepdim=True)[1]\n",
    "    decoded = [char_arr[i] for i in predict]\n",
    "    end = decoded.index('E')\n",
    "    translated = ''.join(decoded[:end])\n",
    "    print(seq_data[i][0].replace('P',''),'--> ',translated.replace('P',''))"
   ]
  },
  {
   "cell_type": "code",
   "execution_count": null,
   "metadata": {},
   "outputs": [],
   "source": []
  }
 ],
 "metadata": {
  "kernelspec": {
   "display_name": "Python 3",
   "language": "python",
   "name": "python3"
  },
  "language_info": {
   "codemirror_mode": {
    "name": "ipython",
    "version": 3
   },
   "file_extension": ".py",
   "mimetype": "text/x-python",
   "name": "python",
   "nbconvert_exporter": "python",
   "pygments_lexer": "ipython3",
   "version": "3.7.4"
  }
 },
 "nbformat": 4,
 "nbformat_minor": 4
}
