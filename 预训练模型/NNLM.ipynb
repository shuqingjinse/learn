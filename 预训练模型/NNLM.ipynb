{
 "cells": [
  {
   "cell_type": "code",
   "execution_count": 18,
   "metadata": {},
   "outputs": [],
   "source": [
    "import numpy as np\n",
    "import torch\n",
    "import torch.nn as nn\n",
    "import torch.optim as optim\n",
    "from torch.autograd import Variable"
   ]
  },
  {
   "cell_type": "markdown",
   "metadata": {},
   "source": [
    "基于前两个词，生成第三个词"
   ]
  },
  {
   "cell_type": "code",
   "execution_count": 19,
   "metadata": {},
   "outputs": [
    {
     "name": "stdout",
     "output_type": "stream",
     "text": [
      "['i', 'like', 'dog', 'i', 'love', 'coffee', 'i', 'hate', 'milk']\n",
      "['coffee', 'milk', 'i', 'dog', 'hate', 'love', 'like']\n",
      "{'coffee': 0, 'milk': 1, 'i': 2, 'dog': 3, 'hate': 4, 'love': 5, 'like': 6}\n",
      "{0: 'coffee', 1: 'milk', 2: 'i', 3: 'dog', 4: 'hate', 5: 'love', 6: 'like'}\n",
      "7\n"
     ]
    }
   ],
   "source": [
    "sentences = [ \"i like dog\", \"i love coffee\", \"i hate milk\"]\n",
    "\n",
    "word_list = \" \".join(sentences).split()\n",
    "print(word_list)\n",
    "word_list = list(set(word_list))\n",
    "print(word_list)\n",
    "word_dict = {w:i for i,w in enumerate(word_list)}\n",
    "print(word_dict)\n",
    "number_dict = {i:w for i,w in enumerate(word_list)}\n",
    "print(number_dict)\n",
    "n_class = len(word_dict)\n",
    "print(n_class)"
   ]
  },
  {
   "cell_type": "code",
   "execution_count": 20,
   "metadata": {},
   "outputs": [],
   "source": [
    "n_step = 2  # 考虑前两个词\n",
    "n_hidden = 2\n",
    "m = 2\n",
    "\n",
    "def make_batch(sentences):\n",
    "    input_batch = []\n",
    "    target_batch = []\n",
    "    \n",
    "    for sen in sentences:\n",
    "        word = sen.split()\n",
    "        input = [word_dict[n] for n in word[:-1]]\n",
    "        target = word_dict[word[-1]]\n",
    "        \n",
    "        input_batch.append(input)\n",
    "        target_batch.append(target)\n",
    "        \n",
    "    return input_batch, target_batch"
   ]
  },
  {
   "cell_type": "code",
   "execution_count": 21,
   "metadata": {},
   "outputs": [
    {
     "name": "stdout",
     "output_type": "stream",
     "text": [
      "input_batch: [[2, 6], [2, 5], [2, 4]]\n",
      "target_batch: [3, 0, 1]\n",
      "torch.Size([3, 2])\n",
      "torch.Size([3])\n"
     ]
    }
   ],
   "source": [
    "input_batch, target_batch = make_batch(sentences)\n",
    "\n",
    "print('input_batch:', input_batch)\n",
    "print('target_batch:', target_batch)\n",
    "\n",
    "input_batch = Variable(torch.LongTensor(input_batch))\n",
    "target_batch = Variable(torch.LongTensor(target_batch))\n",
    "\n",
    "print( input_batch.shape)\n",
    "print( target_batch.shape)\n"
   ]
  },
  {
   "cell_type": "code",
   "execution_count": 22,
   "metadata": {},
   "outputs": [
    {
     "name": "stdout",
     "output_type": "stream",
     "text": [
      "NNLM(\n",
      "  (emb): Embedding(7, 2)\n",
      "  (fc1): Linear(in_features=4, out_features=2, bias=True)\n",
      "  (fc2): Linear(in_features=2, out_features=7, bias=True)\n",
      ")\n"
     ]
    }
   ],
   "source": [
    "input_size = n_step * m # 2 * 2\n",
    "hidden_size = n_hidden  # 2 隐藏层单元数为 2\n",
    "\n",
    "class NNLM(nn.Module):\n",
    "    def __init__(self, input_size, hidden_size, n_class):\n",
    "        super(NNLM, self).__init__()\n",
    "        self.input_size = input_size\n",
    "        self.hidden_size = hidden_size\n",
    "        self.n_class = n_class\n",
    "        self.emb = nn.Embedding(n_class, m)  # 7 , 2 词库有7个词，每个词2维\n",
    "        # num_embeddings: 嵌入层字典的大小（单词本里单词个数） embedding_dim: 每个产出向量的大小\n",
    "        # pytorch的nn.Embedding层讲 one-hot矩阵 和 C 封装起来了\n",
    "        \n",
    "        self.fc1 = nn.Linear(self.input_size, self.hidden_size) # 4 , 2\n",
    "        self.fc2 = nn.Linear(self.hidden_size, self.n_class) # 2 , 7\n",
    "    \n",
    "    def forward(self, x):\n",
    "        x = self.emb(x) #     # (3,2,7) * (7,2) ==> (3,2,2)\n",
    "#         print('第一层维度:', x.size())    \n",
    "        # (3,2,2) 第一个元素是 batchsize的维度，这里的训练集数目是 3；\n",
    "        # 第二个元素是序列长度，即前n-1个词，这里是2；\n",
    "        # 第三个元素是每个词的向量维度，这里是2.\n",
    "        \n",
    "        x = x.view(-1, self.input_size)  # (3,2,2) ==> (3,4)\n",
    "#         print('第二层维度:', x.size())   # (3,4) \n",
    "        \n",
    "        x = self.fc1(x)             # (3,4) * (4,2) ==> (3,4)\n",
    "#         print('第三层维度:', x.size())  # (3,2) \n",
    "        \n",
    "        x = torch.tanh(x)            # (3,2) ==> (3,2) 非线性激活\n",
    "#         print('第四层维度:', x.size())  # (3,2)\n",
    "        \n",
    "        output = self.fc2(x)       # (3,2) * (2,7) ==> (3,7) 全连接层\n",
    "#         print('第五层维度:', output.size())  # (3,7) \n",
    "        return output\n",
    "\n",
    "model = NNLM(input_size, hidden_size, n_class)\n",
    "criterion = nn.CrossEntropyLoss()\n",
    "optimizer = optim.Adam(model.parameters(), lr=0.001)\n",
    "\n",
    "print(model)"
   ]
  },
  {
   "cell_type": "code",
   "execution_count": 23,
   "metadata": {},
   "outputs": [
    {
     "name": "stdout",
     "output_type": "stream",
     "text": [
      "Epoch: 1000 cost = 0.674910\n"
     ]
    }
   ],
   "source": [
    "for epoch in range(1000):\n",
    "    output = model(input_batch)\n",
    "    loss = criterion(output, target_batch)\n",
    "    \n",
    "    if (epoch + 1) % 1000 == 0:\n",
    "        print('Epoch:', '%04d' % (epoch + 1), 'cost =', '{:.6f}'.format(loss))\n",
    "    \n",
    "    optimizer.zero_grad()\n",
    "    loss.backward()\n",
    "    optimizer.step()\n",
    "    \n"
   ]
  },
  {
   "cell_type": "code",
   "execution_count": 25,
   "metadata": {},
   "outputs": [
    {
     "name": "stdout",
     "output_type": "stream",
     "text": [
      "tensor([[3],\n",
      "        [3],\n",
      "        [1]])\n",
      "[['i', 'like'], ['i', 'love'], ['i', 'hate']] -> ['dog', 'dog', 'milk']\n"
     ]
    }
   ],
   "source": [
    "predict = model(input_batch).data.max(1, keepdim=True)[1]\n",
    "print(predict)\n",
    "\n",
    "print([sen.split()[:2] for sen in sentences], '->', [number_dict[n.item()] for n in predict.squeeze()]) \n"
   ]
  },
  {
   "cell_type": "code",
   "execution_count": 26,
   "metadata": {},
   "outputs": [
    {
     "name": "stdout",
     "output_type": "stream",
     "text": [
      "输入： tensor([[2, 6],\n",
      "        [2, 5],\n",
      "        [2, 4]])\n",
      "embedding之后的结果： tensor([[[-1.6612,  2.5111],\n",
      "         [ 1.0630, -2.5493]],\n",
      "\n",
      "        [[-1.6612,  2.5111],\n",
      "         [ 1.1125, -1.8106]],\n",
      "\n",
      "        [[-1.6612,  2.5111],\n",
      "         [-1.6486,  0.6113]]], grad_fn=<EmbeddingBackward>)\n"
     ]
    }
   ],
   "source": [
    "print('输入：',input_batch)\n",
    "print('embedding之后的结果：',model.emb(input_batch))"
   ]
  },
  {
   "cell_type": "code",
   "execution_count": 27,
   "metadata": {},
   "outputs": [
    {
     "name": "stdout",
     "output_type": "stream",
     "text": [
      "embedding之后的结果： <generator object Module.parameters at 0x0000017C50D849C8>\n",
      "Parameter containing:\n",
      "tensor([[-0.8708,  0.8599],\n",
      "        [-1.9604, -1.1207],\n",
      "        [-1.6612,  2.5111],\n",
      "        [ 0.0221,  1.3368],\n",
      "        [-1.6486,  0.6113],\n",
      "        [ 1.1125, -1.8106],\n",
      "        [ 1.0630, -2.5493]], requires_grad=True)\n"
     ]
    }
   ],
   "source": [
    "print('embedding之后的结果：',model.emb.parameters())\n",
    "for embed in model.emb.parameters():\n",
    "    print(embed)  \n",
    "# nn.Embedding网络中的权重即 本例中词表中所有词汇的词向量"
   ]
  },
  {
   "cell_type": "code",
   "execution_count": null,
   "metadata": {},
   "outputs": [],
   "source": []
  }
 ],
 "metadata": {
  "kernelspec": {
   "display_name": "Python 3",
   "language": "python",
   "name": "python3"
  },
  "language_info": {
   "codemirror_mode": {
    "name": "ipython",
    "version": 3
   },
   "file_extension": ".py",
   "mimetype": "text/x-python",
   "name": "python",
   "nbconvert_exporter": "python",
   "pygments_lexer": "ipython3",
   "version": "3.7.4"
  }
 },
 "nbformat": 4,
 "nbformat_minor": 4
}
