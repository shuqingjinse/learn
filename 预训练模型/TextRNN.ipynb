{
 "cells": [
  {
   "cell_type": "code",
   "execution_count": 71,
   "metadata": {},
   "outputs": [],
   "source": [
    "import numpy as np\n",
    "import torch\n",
    "import torch.nn as nn\n",
    "import torch.optim as optim"
   ]
  },
  {
   "cell_type": "code",
   "execution_count": 72,
   "metadata": {},
   "outputs": [],
   "source": [
    "def make_batch():\n",
    "    input_batch = []\n",
    "    target_batch = []\n",
    "    \n",
    "    for sen in sentences:\n",
    "        word = sen.split()\n",
    "        input = [word_dict[n] for n in word[:-1]]\n",
    "        target = word_dict[word[-1]]\n",
    "        input_batch.append(np.eye(n_class)[input]) # 独热编码\n",
    "        target_batch.append(target)\n",
    "    \n",
    "    return input_batch, target_batch"
   ]
  },
  {
   "cell_type": "code",
   "execution_count": 73,
   "metadata": {},
   "outputs": [],
   "source": [
    "class TextRNN(nn.Module):\n",
    "    def __init__(self):\n",
    "        super(TextRNN, self).__init__()\n",
    "        self.rnn = nn.RNN(input_size=n_class, hidden_size=n_hidden) # 7,5\n",
    "        self.W = nn.Linear(n_hidden, n_class, bias=False) # 5,7\n",
    "        self.b = nn.Parameter(torch.ones([n_class]))\n",
    "        \n",
    "    def forward(self, hidden, X):\n",
    "        X = X.transpose(0, 1)\n",
    "        outputs, hidden = self.rnn(X, hidden) # 2,3,7  1,3,5 \n",
    "        outputs = outputs[-1] # 2,3,5 -> 3,5\n",
    "        model = self.W(outputs) + self.b # (5,7) * (3,5) -> (3,7)\n",
    "        return model"
   ]
  },
  {
   "cell_type": "code",
   "execution_count": 74,
   "metadata": {},
   "outputs": [],
   "source": [
    "n_step = 2\n",
    "n_hidden = 5 \n",
    "\n",
    "sentences = [\"i like dog\", \"i love coffee\", \"i hate milk\"]\n",
    "\n",
    "word_list = \" \".join(sentences).split()\n",
    "word_list = list(set(word_list))\n",
    "word_dict = {w: i for i, w in enumerate(word_list)}\n",
    "number_dict = {i: w for i, w in enumerate(word_list)}\n",
    "n_class = len(word_dict)\n",
    "batch_size = len(sentences)"
   ]
  },
  {
   "cell_type": "code",
   "execution_count": 75,
   "metadata": {},
   "outputs": [],
   "source": [
    "model = TextRNN()"
   ]
  },
  {
   "cell_type": "code",
   "execution_count": 76,
   "metadata": {},
   "outputs": [],
   "source": [
    "criterion = nn.CrossEntropyLoss()\n",
    "optimizer = optim.Adam(model.parameters(), lr=0.001)\n",
    "\n",
    "input_batch, target_batch = make_batch()\n",
    "input_batch = torch.FloatTensor(input_batch) # 3,2,7  3为batch_size, 2为sequence_length, 7为字向量长度\n",
    "target_batch = torch.LongTensor(target_batch) # 3"
   ]
  },
  {
   "cell_type": "code",
   "execution_count": 77,
   "metadata": {},
   "outputs": [
    {
     "name": "stdout",
     "output_type": "stream",
     "text": [
      "999 :  tensor(0.1466, grad_fn=<NllLossBackward>)\n",
      "torch.Size([3, 7])\n",
      "1999 :  tensor(0.0150, grad_fn=<NllLossBackward>)\n",
      "torch.Size([3, 7])\n",
      "2999 :  tensor(0.0053, grad_fn=<NllLossBackward>)\n",
      "torch.Size([3, 7])\n",
      "3999 :  tensor(0.0025, grad_fn=<NllLossBackward>)\n",
      "torch.Size([3, 7])\n",
      "4999 :  tensor(0.0013, grad_fn=<NllLossBackward>)\n",
      "torch.Size([3, 7])\n"
     ]
    }
   ],
   "source": [
    "for epoch in range(5000):\n",
    "    optimizer.zero_grad()\n",
    "    \n",
    "    hidden = torch.zeros(1, batch_size, n_hidden) # 1,3,5\n",
    "    output = model(hidden, input_batch) \n",
    "    loss = criterion(output, target_batch) # (3,7) , (3) -> 1个值\n",
    "    if (epoch+1) % 1000 == 0:\n",
    "        print(epoch,': ',loss)\n",
    "        print(output.shape)\n",
    "    \n",
    "    loss.backward()\n",
    "    optimizer.step()"
   ]
  },
  {
   "cell_type": "markdown",
   "metadata": {},
   "source": [
    "### 预测阶段"
   ]
  },
  {
   "cell_type": "code",
   "execution_count": 78,
   "metadata": {},
   "outputs": [
    {
     "name": "stdout",
     "output_type": "stream",
     "text": [
      "[['i', 'love'], ['i', 'love'], ['i', 'love']] -> ['coffee', 'coffee', 'coffee']\n"
     ]
    }
   ],
   "source": [
    "sentences = [\"i love dog\", \"i love coffee\", \"i love milk\"]\n",
    "input = [sen.split()[:2] for sen in sentences]\n",
    "input_batch, target_batch = make_batch()\n",
    "input_batch = torch.FloatTensor(input_batch)\n",
    "target_batch = torch.LongTensor(target_batch)\n",
    "hidden = torch.zeros(1, batch_size, n_hidden)\n",
    "predict = model(hidden, input_batch).data.max(1, keepdim=True)[1]\n",
    "print([sen.split()[:2] for sen in sentences], '->', [number_dict[n.item()] for n in predict.squeeze()])"
   ]
  },
  {
   "cell_type": "code",
   "execution_count": null,
   "metadata": {},
   "outputs": [],
   "source": []
  }
 ],
 "metadata": {
  "kernelspec": {
   "display_name": "Python 3",
   "language": "python",
   "name": "python3"
  },
  "language_info": {
   "codemirror_mode": {
    "name": "ipython",
    "version": 3
   },
   "file_extension": ".py",
   "mimetype": "text/x-python",
   "name": "python",
   "nbconvert_exporter": "python",
   "pygments_lexer": "ipython3",
   "version": "3.7.4"
  }
 },
 "nbformat": 4,
 "nbformat_minor": 4
}
