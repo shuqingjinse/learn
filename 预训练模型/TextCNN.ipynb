{
 "cells": [
  {
   "cell_type": "code",
   "execution_count": 1,
   "metadata": {},
   "outputs": [],
   "source": [
    "import numpy as np\n",
    "import torch\n",
    "import torch.nn as nn\n",
    "import torch.optim as optim\n",
    "import torch.nn.functional as F"
   ]
  },
  {
   "cell_type": "markdown",
   "metadata": {},
   "source": [
    "文本情感分类"
   ]
  },
  {
   "cell_type": "code",
   "execution_count": 2,
   "metadata": {},
   "outputs": [],
   "source": [
    "class TextCNN(nn.Module):\n",
    "    def __init__(self):\n",
    "        super(TextCNN, self).__init__()\n",
    "        self.num_filters_total = num_filters * len(filter_sizes) # 3*3 = 9\n",
    "        self.W = nn.Embedding(vocab_size, embedding_size) # 16,2 \n",
    "        self.Weight = nn.Linear(self.num_filters_total, num_classes, bias=False) # 9,2\n",
    "        self.Bias = nn.Parameter(torch.ones([num_classes])) # 2\n",
    "        self.filter_list = nn.ModuleList([nn.Conv2d(1, num_filters, (size, embedding_size)) for size in filter_sizes]) # 1,3,2,2\n",
    "        \n",
    "    def forward(self, X):\n",
    "        # X 即 inputs (6,3)\n",
    "        embedded_chars = self.W(X)   # [batch_size, sequence_length, sequence_length]\n",
    "        # embedded_chars (6,3,2)\n",
    "        embedded_chars = embedded_chars.unsqueeze(1)\n",
    "        # embedded_chars (6,1,3,2) \n",
    "        # batch_size = 6, channels = 1, height_1 = 3, width_1 = 2\n",
    "        \n",
    "        pooled_outputs = []\n",
    "        for i, conv in enumerate(self.filter_list):\n",
    "            # conv (1,3 kernel_size=(2,2), stride=(1,1))\n",
    "            # in_channels = 1, out_channels = 3, height_2 = 2, width_2 = 2, stride步长为默认值 1\n",
    "            h = F.relu(conv(embedded_chars))\n",
    "            # h (6,3,2,1) 6为batchsize，3为out_channels，2,1是 (3,2)被kernnel(2,2)采样之后的结果\n",
    "            mp = nn.MaxPool2d((sequence_length - filter_sizes[i] + 1, 1)) # (2,1)     kernel为(2,1)\n",
    "            pooled = mp(h).permute(0, 3, 2, 1)  # (6,3,1,1) -> (6,1,1,3)\n",
    "            # permute 将维度换位\n",
    "            pooled_outputs.append(pooled)\n",
    "        \n",
    "        h_pool = torch.cat(pooled_outputs, len(filter_sizes)) # (6,1,1,9)\n",
    "        # torch.cat 是将list类型的pooled_outputs,按照index 3进行 tensor的拼接，所以 3个(6,1,1,3)按照index3拼接后为 (6,1,1,9)\n",
    "        h_pool_flat = torch.reshape(h_pool, [-1, self.num_filters_total])  # (6,9)\n",
    "        model = self.Weight(h_pool_flat) + self.Bias  # (6,2)\n",
    "        # 输出是(6,2) 6个batchsize,2个类别（情感极性）\n",
    "        return model        "
   ]
  },
  {
   "cell_type": "code",
   "execution_count": 3,
   "metadata": {},
   "outputs": [],
   "source": [
    "embedding_size = 2\n",
    "sequence_length = 3 \n",
    "num_classes = 2 # number of classes\n",
    "filter_sizes = [2, 2, 2] # n-gram windows\n",
    "num_filters = 3 # number of filters\n",
    "# 3 words sentences\n",
    "sentences = ['i love you', 'he loves me', 'she likes baseball', 'i hate you', 'sorry for that', 'this is awful']\n",
    "labels = [1, 1, 1, 0, 0, 0] # 1 is good, 0 is not good"
   ]
  },
  {
   "cell_type": "code",
   "execution_count": 15,
   "metadata": {},
   "outputs": [],
   "source": [
    "word_list = ' '.join(sentences).split()\n",
    "word_list = list(set(word_list))\n",
    "word_dict = {w: i for i, w in enumerate(word_list)}\n",
    "vocab_size = len(word_dict)"
   ]
  },
  {
   "cell_type": "code",
   "execution_count": 16,
   "metadata": {},
   "outputs": [],
   "source": [
    "model = TextCNN()"
   ]
  },
  {
   "cell_type": "code",
   "execution_count": 17,
   "metadata": {},
   "outputs": [],
   "source": [
    "criterion = nn.CrossEntropyLoss()\n",
    "optimizer = optim.Adam(model.parameters(), lr=0.001)"
   ]
  },
  {
   "cell_type": "code",
   "execution_count": 18,
   "metadata": {},
   "outputs": [],
   "source": [
    "# inputs (6,3)\n",
    "inputs = torch.LongTensor([np.asarray([word_dict[n] for n in sen.split()]) for sen in sentences])\n",
    "targets = torch.LongTensor([out for out in labels])\n",
    "# targets (6)"
   ]
  },
  {
   "cell_type": "code",
   "execution_count": 19,
   "metadata": {},
   "outputs": [
    {
     "name": "stdout",
     "output_type": "stream",
     "text": [
      "Epoch: 1000 cost= 0.002719\n",
      "Epoch: 2000 cost= 0.000470\n",
      "Epoch: 3000 cost= 0.000160\n",
      "Epoch: 4000 cost= 0.000069\n",
      "Epoch: 5000 cost= 0.000033\n"
     ]
    }
   ],
   "source": [
    "for epoch in range(5000):\n",
    "    optimizer.zero_grad()\n",
    "    # output (6,2)\n",
    "    output = model(inputs)  # [batch_size, num_classes]\n",
    "    \n",
    "    loss = criterion(output, targets)\n",
    "    if (epoch + 1) % 1000 == 0:\n",
    "        print('Epoch:', '%04d' % (epoch+1), 'cost=', '{:.6f}'.format(loss))\n",
    "    \n",
    "    loss.backward()\n",
    "    optimizer.step()    "
   ]
  },
  {
   "cell_type": "code",
   "execution_count": 20,
   "metadata": {},
   "outputs": [],
   "source": [
    "test_text = 'sorry hate she'\n",
    "tests = [np.asarray([word_dict[n] for n in test_text.split()])]\n",
    "test_batch = torch.LongTensor(tests)"
   ]
  },
  {
   "cell_type": "code",
   "execution_count": 21,
   "metadata": {},
   "outputs": [],
   "source": [
    "predict = model(test_batch).data.max(1, keepdim=True)[1]"
   ]
  },
  {
   "cell_type": "code",
   "execution_count": 22,
   "metadata": {},
   "outputs": [
    {
     "name": "stdout",
     "output_type": "stream",
     "text": [
      "sorry hate she is bad mean.\n"
     ]
    }
   ],
   "source": [
    "if predict[0][0] == 0:\n",
    "    print(test_text, 'is bad mean.')\n",
    "else:\n",
    "    print(test_text, 'is godd mean.')"
   ]
  }
 ],
 "metadata": {
  "kernelspec": {
   "display_name": "Python 3",
   "language": "python",
   "name": "python3"
  },
  "language_info": {
   "codemirror_mode": {
    "name": "ipython",
    "version": 3
   },
   "file_extension": ".py",
   "mimetype": "text/x-python",
   "name": "python",
   "nbconvert_exporter": "python",
   "pygments_lexer": "ipython3",
   "version": "3.7.4"
  }
 },
 "nbformat": 4,
 "nbformat_minor": 4
}
