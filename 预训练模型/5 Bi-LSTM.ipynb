{
 "cells": [
  {
   "cell_type": "code",
   "execution_count": 1,
   "metadata": {},
   "outputs": [],
   "source": [
    "import numpy as np\n",
    "import torch\n",
    "import torch.nn as nn\n",
    "import torch.optim as optim"
   ]
  },
  {
   "cell_type": "markdown",
   "metadata": {},
   "source": [
    "### 基于双向lstm 预测后一个单词"
   ]
  },
  {
   "cell_type": "code",
   "execution_count": 2,
   "metadata": {},
   "outputs": [],
   "source": [
    "n_hidden = 5\n",
    "sentence = (\n",
    "    'Lorem ipsum dolor sit amet consectetur adipisicing elit '\n",
    "    'sed do eiusmod tempor incididunt ut labore et dolore magna '\n",
    "    'aliqua Ut enim ad minim veniam quis nostrud exercitation'\n",
    ")\n",
    "word_dict= {w:i for i,w in enumerate(list(set(sentence.split())))}\n",
    "number_dict = {i:w for i,w in enumerate(list(set(sentence.split())))}\n",
    "n_class = len(word_dict) # 27个不重复的单词\n",
    "max_len = len(sentence.split()) # 共27个单词"
   ]
  },
  {
   "cell_type": "code",
   "execution_count": 18,
   "metadata": {},
   "outputs": [],
   "source": [
    "def make_batch(sentence):\n",
    "    input_batch = []\n",
    "    target_batch = []\n",
    "    words = sentence.split()\n",
    "    for i, word in enumerate(words[:-1]):\n",
    "        input = [word_dict[n] for n in words[:(i+1)]]\n",
    "        input = input + [0] * (max_len - len(input))\n",
    "        target = word_dict[words[i+1]]\n",
    "        input_batch.append(np.eye(n_class)[input])\n",
    "        target_batch.append(target)\n",
    "        \n",
    "    return input_batch, target_batch"
   ]
  },
  {
   "cell_type": "code",
   "execution_count": 19,
   "metadata": {},
   "outputs": [],
   "source": [
    "input_batch, target_batch = make_batch(sentence)\n",
    "input_batch = torch.FloatTensor(input_batch) # 26, 27, 27 \n",
    "# 26 指的是 batch_size, 第一个27指的是 序列长度， 第二个27指得是 独热编码长度\n",
    "target_batch = torch.LongTensor(target_batch)"
   ]
  },
  {
   "cell_type": "code",
   "execution_count": 20,
   "metadata": {},
   "outputs": [],
   "source": [
    "class BiLSTM(nn.Module):\n",
    "    def __init__(self):\n",
    "        super(BiLSTM, self).__init__()\n",
    "        \n",
    "        self.lstm = nn.LSTM(input_size=n_class, \n",
    "                           hidden_size=n_hidden,\n",
    "                           bidirectional=True) # 单双向lstm的区别在此\n",
    "        self.W = nn.Linear(n_hidden*2, n_class, bias=True)  # 隐藏层 维度 * 2\n",
    "        self.b = nn.Parameter(torch.ones([n_class]))\n",
    "        \n",
    "    def forward(self, X):\n",
    "        input = X.transpose(0,1) # input-> n_step, batch_size, n_class\n",
    "        hidden_state = torch.zeros(1*2, len(X), n_hidden) # 隐藏层 维度 * 2\n",
    "        cell_state = torch.zeros(1*2, len(X), n_hidden)  # (2, 26, 5)\n",
    "        \n",
    "        outputs, (_, _) = self.lstm(input, (hidden_state, cell_state)) #   n_step,  batch_size,  n_hidden*2\n",
    "        outputs = outputs[-1]\n",
    "        model = self.W(outputs) + self.b # model -> batch_size, n_class 26,27\n",
    "        return model"
   ]
  },
  {
   "cell_type": "code",
   "execution_count": 23,
   "metadata": {},
   "outputs": [],
   "source": [
    "model = BiLSTM()\n",
    "criterion = nn.CrossEntropyLoss()\n",
    "optimizer = optim.Adam(model.parameters(), lr=0.001)"
   ]
  },
  {
   "cell_type": "code",
   "execution_count": 25,
   "metadata": {},
   "outputs": [
    {
     "name": "stdout",
     "output_type": "stream",
     "text": [
      "1000 tensor(1.9501, grad_fn=<NllLossBackward>)\n",
      "2000 tensor(1.7147, grad_fn=<NllLossBackward>)\n",
      "3000 tensor(1.6391, grad_fn=<NllLossBackward>)\n",
      "4000 tensor(1.5588, grad_fn=<NllLossBackward>)\n",
      "5000 tensor(1.5253, grad_fn=<NllLossBackward>)\n",
      "6000 tensor(1.5087, grad_fn=<NllLossBackward>)\n",
      "7000 tensor(1.4973, grad_fn=<NllLossBackward>)\n",
      "8000 tensor(1.1733, grad_fn=<NllLossBackward>)\n",
      "9000 tensor(1.0703, grad_fn=<NllLossBackward>)\n",
      "10000 tensor(0.8568, grad_fn=<NllLossBackward>)\n"
     ]
    }
   ],
   "source": [
    "for epoch in range(10000):\n",
    "    optimizer.zero_grad()\n",
    "    output = model(input_batch)\n",
    "    loss = criterion(output, target_batch)\n",
    "    if (epoch+1) %1000 == 0:\n",
    "        print(epoch+1, loss)\n",
    "    loss.backward()\n",
    "    optimizer.step()"
   ]
  },
  {
   "cell_type": "code",
   "execution_count": 26,
   "metadata": {},
   "outputs": [
    {
     "name": "stdout",
     "output_type": "stream",
     "text": [
      "Lorem ipsum dolor sit amet consectetur adipisicing elit sed do eiusmod tempor incididunt ut labore et dolore magna aliqua Ut enim ad minim veniam quis nostrud exercitation\n",
      "['consectetur', 'consectetur', 'consectetur', 'consectetur', 'consectetur', 'consectetur', 'adipisicing', 'incididunt', 'do', 'eiusmod', 'tempor', 'incididunt', 'ut', 'labore', 'et', 'dolore', 'magna', 'aliqua', 'Ut', 'enim', 'ad', 'minim', 'veniam', 'quis', 'nostrud', 'exercitation']\n"
     ]
    }
   ],
   "source": [
    "predict = model(input_batch).data.max(1, keepdim=True)[1]\n",
    "print(sentence)\n",
    "print([number_dict[n.item()] for n in predict.squeeze()])"
   ]
  }
 ],
 "metadata": {
  "kernelspec": {
   "display_name": "Python 3",
   "language": "python",
   "name": "python3"
  },
  "language_info": {
   "codemirror_mode": {
    "name": "ipython",
    "version": 3
   },
   "file_extension": ".py",
   "mimetype": "text/x-python",
   "name": "python",
   "nbconvert_exporter": "python",
   "pygments_lexer": "ipython3",
   "version": "3.7.4"
  }
 },
 "nbformat": 4,
 "nbformat_minor": 4
}
